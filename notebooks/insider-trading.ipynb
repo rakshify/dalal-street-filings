{
 "cells": [
  {
   "cell_type": "code",
   "execution_count": 1,
   "id": "a7c4b9ca",
   "metadata": {},
   "outputs": [],
   "source": [
    "import json\n",
    "import os\n",
    "import requests\n",
    "\n",
    "from CONSTANTS import BASE_URL"
   ]
  },
  {
   "cell_type": "code",
   "execution_count": 14,
   "id": "e09de2f2",
   "metadata": {},
   "outputs": [],
   "source": [
    "def get_from_dt():\n",
    "    return \"01/01/2021\"\n",
    "\n",
    "def get_to_dt():\n",
    "    return \"27/11/2021\"\n",
    "\n",
    "def get_script():\n",
    "    return \"500325\""
   ]
  },
  {
   "cell_type": "code",
   "execution_count": 15,
   "id": "9cd0bd58",
   "metadata": {},
   "outputs": [],
   "source": [
    "url = f\"{BASE_URL}/InsiderTrade15/w\"\n",
    "from_dt = get_from_dt()\n",
    "to_dt = get_to_dt()\n",
    "script_id = get_script()\n",
    "params = {\n",
    "    \"fromdt\": from_dt,\n",
    "    \"todt\": to_dt,\n",
    "    \"scripcode\": script_id\n",
    "}\n",
    "url2 = f\"{url}?todt={to_dt}&scripcode={script_id}&fromdt={from_dt}\"\n",
    "headers = {\n",
    "    \"User-Agent\": \"Mozilla/5.0 (X11; Ubuntu; Linux x86_64; rv:94.0) Gecko/20100101 Firefox/94.0\",\n",
    "    \"Accept\": \"text/html,application/xhtml+xml,application/xml;q=0.9,image/avif,image/webp,*/*;q=0.8\",\n",
    "    \"Accept-Language\": \"en-US,en;q=0.5\",\n",
    "    \"Accept-Encoding\": \"gzip, deflate, br\",\n",
    "    \"DNT\": \"1\",\n",
    "    \"Connection\": \"keep-alive\",\n",
    "    \"Cookie\": \"_ga_TM52BJH9HF=GS1.1.1638520636.1.0.1638520636.0; _ga=GA1.1.1995187650.1638520636\",\n",
    "    \"Upgrade-Insecure-Requests\": \"1\",\n",
    "    \"Sec-Fetch-Dest\": \"document\",\n",
    "    \"Sec-Fetch-Mode\": \"navigate\",\n",
    "    \"Sec-Fetch-Site\": \"none\",\n",
    "    \"Sec-Fetch-User\": \"?1\",\n",
    "    \"Sec-GPC\": \"1\",\n",
    "    \"Cache-Control\": \"max-age=0\",\n",
    "    \"TE\": \"trailers\"\n",
    "}\n",
    "payload = {}"
   ]
  },
  {
   "cell_type": "code",
   "execution_count": 22,
   "id": "0c2fd7fc",
   "metadata": {},
   "outputs": [],
   "source": [
    "resp = requests.get(url, params=params, headers=headers, data=payload)\n",
    "resp = resp.json()"
   ]
  },
  {
   "cell_type": "code",
   "execution_count": 24,
   "id": "1485efab",
   "metadata": {},
   "outputs": [
    {
     "data": {
      "text/plain": [
       "{'Fld_ID': 321465,\n",
       " 'Fld_ScripCode': 500325,\n",
       " 'Fld_LetterDate': '2021-10-04T00:00:00',\n",
       " 'Fld_StampDate': '2021-10-04T00:00:00',\n",
       " 'Fld_PromoterName': 'DARSHAN PURUSHOTTAM NAPHADE',\n",
       " 'Fld_PromoterAdd': '602 MANGAL PRABHA, SECTOR 9, D. Y. PATIL HOSPITAL, NERUL, NAVI MUMBAI 400706',\n",
       " 'Fld_PromoterContact': '9867625794',\n",
       " 'Fld_PromoterPAN': 'AAKPN1989R',\n",
       " 'Fld_PromoterCIN': '',\n",
       " 'Fld_PromoterDIN': '',\n",
       " 'Fld_PromoterCatg': 6,\n",
       " 'Fld_SecurityTypePrior': 1,\n",
       " 'Fld_SecurityNoPrior': '2940',\n",
       " 'Fld_SecurityType': 1,\n",
       " 'Fld_SecurityNo': '800',\n",
       " 'Fld_TransactionType': 'Acquisition',\n",
       " 'Fld_PercentofShareholdingPre': '0.00',\n",
       " 'Fld_PercentofShareholdingPost': '0.00',\n",
       " 'Fld_FromDate': '2021-09-29T00:00:00',\n",
       " 'Fld_ToDate': '2021-09-29T00:00:00',\n",
       " 'Fld_DateIntimation': '2021-10-01T00:00:00',\n",
       " 'Fld_Mode': 302,\n",
       " 'Fld_TypeofContract': '',\n",
       " 'Fld_TradeDerivBuyValue': '',\n",
       " 'Fld_TradeDerivBuyUnits': '',\n",
       " 'Fld_TradeDerivSellValue': '',\n",
       " 'Fld_TradeDerivSellUnits': '',\n",
       " 'Fld_TradeExchange': 'NA',\n",
       " 'Fld_attachment': None,\n",
       " 'Fld_AttachmentICRA': '',\n",
       " 'Fld_ExportFlag': True,\n",
       " 'Fld_Notes': '',\n",
       " 'Fld_CreateDate': '2021-10-04T19:58:43.803',\n",
       " 'Fld_UpdateDate': '2021-10-04T20:01:57',\n",
       " 'Fld_AuthoriseDate': '2021-10-04T20:02:00',\n",
       " 'Fld_FromDateAllotment': '2021-09-29T00:00:00',\n",
       " 'Fld_ToDateAllotment': '2021-09-29T00:00:00',\n",
       " 'Fld_ModeofAcquisition': 302,\n",
       " 'Companyname': 'RELIANCE INDUSTRIES LTD.',\n",
       " 'Fld_PersonCatgName': 'Designated Person',\n",
       " 'Fld_SecurityTypeName': 'Equity Shares',\n",
       " 'Fld_SecurityTypeNamePrior': 'Equity Shares',\n",
       " 'ModeOfAquisation': 'Inheritance',\n",
       " 'Fld_ContractSpecifications': '',\n",
       " 'Fld_SecurityValue': '2022280.00',\n",
       " 'Fld_SecurityTypePost': 1,\n",
       " 'Fld_SecurityNoPost': '3740'}"
      ]
     },
     "execution_count": 24,
     "metadata": {},
     "output_type": "execute_result"
    }
   ],
   "source": [
    "resp[\"Table\"][0]"
   ]
  },
  {
   "cell_type": "code",
   "execution_count": 7,
   "id": "e4861987",
   "metadata": {},
   "outputs": [
    {
     "name": "stdout",
     "output_type": "stream",
     "text": [
      "{\"Table\":[]}\n"
     ]
    }
   ],
   "source": [
    "import requests\n",
    "\n",
    "url = \"https://api.bseindia.com/BseIndiaAPI/api/InsiderTrade15/w?todt=27/11/2021&scripcode=500325&fromdt=01/11/2021\"\n",
    "\n",
    "payload={}\n",
    "headers = {\n",
    "    \"User-Agent\": \"Mozilla/5.0 (X11; Ubuntu; Linux x86_64; rv:94.0) Gecko/20100101 Firefox/94.0\",\n",
    "    \"Accept\": \"text/html,application/xhtml+xml,application/xml;q=0.9,image/avif,image/webp,*/*;q=0.8\",\n",
    "    \"Accept-Language\": \"en-US,en;q=0.5\",\n",
    "    \"Accept-Encoding\": \"gzip, deflate, br\",\n",
    "    \"DNT\": \"1\",\n",
    "    \"Connection\": \"keep-alive\",\n",
    "    \"Cookie\": \"_ga_TM52BJH9HF=GS1.1.1638520636.1.0.1638520636.0; _ga=GA1.1.1995187650.1638520636\",\n",
    "    \"Upgrade-Insecure-Requests\": \"1\",\n",
    "    \"Sec-Fetch-Dest\": \"document\",\n",
    "    \"Sec-Fetch-Mode\": \"navigate\",\n",
    "    \"Sec-Fetch-Site\": \"none\",\n",
    "    \"Sec-Fetch-User\": \"?1\",\n",
    "    \"Sec-GPC\": \"1\",\n",
    "    \"Cache-Control\": \"max-age=0\",\n",
    "    \"TE\": \"trailers\"\n",
    "}\n",
    "\n",
    "# response = requests.request(\"GET\", url, headers=headers, data=payload)\n",
    "response = requests.get(url, headers=headers, data=payload)\n",
    "\n",
    "print(response.text)\n"
   ]
  },
  {
   "cell_type": "code",
   "execution_count": 8,
   "id": "24267dba",
   "metadata": {},
   "outputs": [
    {
     "data": {
      "text/plain": [
       "200"
      ]
     },
     "execution_count": 8,
     "metadata": {},
     "output_type": "execute_result"
    }
   ],
   "source": [
    "resp.status_code"
   ]
  },
  {
   "cell_type": "code",
   "execution_count": 9,
   "id": "0b25a8f2",
   "metadata": {},
   "outputs": [
    {
     "data": {
      "text/plain": [
       "{'fromdt': '01/11/2021', 'todt': '27/11/2021', 'scripcode': '500325'}"
      ]
     },
     "execution_count": 9,
     "metadata": {},
     "output_type": "execute_result"
    }
   ],
   "source": [
    "params"
   ]
  },
  {
   "cell_type": "code",
   "execution_count": 10,
   "id": "3920ec69",
   "metadata": {},
   "outputs": [
    {
     "data": {
      "text/plain": [
       "True"
      ]
     },
     "execution_count": 10,
     "metadata": {},
     "output_type": "execute_result"
    }
   ],
   "source": [
    "url == url2"
   ]
  },
  {
   "cell_type": "code",
   "execution_count": 11,
   "id": "3a708ada",
   "metadata": {},
   "outputs": [
    {
     "data": {
      "text/plain": [
       "'https://api.bseindia.com/BseIndiaAPI/api/InsiderTrade15/w?todt=27/11/2021&scripcode=500325&fromdt=01/11/2021'"
      ]
     },
     "execution_count": 11,
     "metadata": {},
     "output_type": "execute_result"
    }
   ],
   "source": [
    "url"
   ]
  },
  {
   "cell_type": "code",
   "execution_count": 12,
   "id": "c181ef93",
   "metadata": {},
   "outputs": [
    {
     "data": {
      "text/plain": [
       "'https://api.bseindia.com/BseIndiaAPI/api/InsiderTrade15/w?todt=27/11/2021&scripcode=500325&fromdt=01/11/2021'"
      ]
     },
     "execution_count": 12,
     "metadata": {},
     "output_type": "execute_result"
    }
   ],
   "source": [
    "url2"
   ]
  },
  {
   "cell_type": "code",
   "execution_count": 13,
   "id": "c89c7084",
   "metadata": {},
   "outputs": [
    {
     "data": {
      "text/plain": [
       "'https://api.bseindia.com/BseIndiaAPI/api'"
      ]
     },
     "execution_count": 13,
     "metadata": {},
     "output_type": "execute_result"
    }
   ],
   "source": [
    "BASE_URL"
   ]
  },
  {
   "cell_type": "code",
   "execution_count": null,
   "id": "2059f2f3",
   "metadata": {},
   "outputs": [],
   "source": []
  }
 ],
 "metadata": {
  "kernelspec": {
   "display_name": "Python 3 (ipykernel)",
   "language": "python",
   "name": "python3"
  },
  "language_info": {
   "codemirror_mode": {
    "name": "ipython",
    "version": 3
   },
   "file_extension": ".py",
   "mimetype": "text/x-python",
   "name": "python",
   "nbconvert_exporter": "python",
   "pygments_lexer": "ipython3",
   "version": "3.8.12"
  }
 },
 "nbformat": 4,
 "nbformat_minor": 5
}
