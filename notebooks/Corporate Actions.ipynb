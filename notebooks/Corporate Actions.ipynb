{
 "cells": [
  {
   "cell_type": "code",
   "execution_count": 1,
   "id": "308c17f3",
   "metadata": {},
   "outputs": [],
   "source": [
    "import json\n",
    "import os\n",
    "import requests\n",
    "\n",
    "import pandas as pd\n",
    "\n",
    "from CONSTANTS import BASE_URL, PROJECT_DIR"
   ]
  },
  {
   "cell_type": "code",
   "execution_count": 2,
   "id": "21581a49",
   "metadata": {},
   "outputs": [],
   "source": [
    "OUT_DIR = os.path.join(PROJECT_DIR, \"output\")\n",
    "if not os.path.isdir(OUT_DIR):\n",
    "    os.makedirs(OUT_DIR)"
   ]
  },
  {
   "cell_type": "code",
   "execution_count": 3,
   "id": "c8d9f9ea",
   "metadata": {},
   "outputs": [],
   "source": [
    "def get_from_dt():\n",
    "    return \"\"\n",
    "\n",
    "def get_to_dt():\n",
    "    return \"\"\n",
    "\n",
    "def get_purpose():\n",
    "    return \"\"\n",
    "\n",
    "def get_date_selector():\n",
    "    return \"E\"\n",
    "\n",
    "def get_industry():\n",
    "    return \"\"\n",
    "\n",
    "def get_segment():\n",
    "    return 0\n",
    "\n",
    "def get_str_search():\n",
    "    return \"D\""
   ]
  },
  {
   "cell_type": "code",
   "execution_count": 4,
   "id": "e5a4e7fb",
   "metadata": {},
   "outputs": [],
   "source": [
    "url = f\"{BASE_URL}/DefaultData/w\"\n",
    "from_dt = get_from_dt()\n",
    "to_dt = get_to_dt()\n",
    "purpose = get_purpose()\n",
    "date_selector = get_date_selector()\n",
    "industry = get_industry()\n",
    "segment = get_segment()\n",
    "str_search = get_str_search()\n",
    "params = {\n",
    "    \"Fdate\": from_dt,\n",
    "    \"Tdate\": to_dt,\n",
    "    \"Purposecode\": purpose,\n",
    "    \"ddlcategorys\": date_selector,\n",
    "    \"ddlindustrys\": industry,\n",
    "    \"segment\": segment,\n",
    "    \"strSearch\": str_search\n",
    "}\n",
    "headers = {\n",
    "    \"User-Agent\": \"Mozilla/5.0 (X11; Ubuntu; Linux x86_64; rv:94.0) Gecko/20100101 Firefox/94.0\",\n",
    "    \"Accept\": \"text/html,application/xhtml+xml,application/xml;q=0.9,image/avif,image/webp,*/*;q=0.8\",\n",
    "    \"Accept-Language\": \"en-US,en;q=0.5\",\n",
    "    \"Accept-Encoding\": \"gzip, deflate, br\",\n",
    "    \"DNT\": \"1\",\n",
    "    \"Connection\": \"keep-alive\",\n",
    "    \"Cookie\": \"_ga_TM52BJH9HF=GS1.1.1638520636.1.0.1638520636.0; _ga=GA1.1.1995187650.1638520636\",\n",
    "    \"Upgrade-Insecure-Requests\": \"1\",\n",
    "    \"Sec-Fetch-Dest\": \"document\",\n",
    "    \"Sec-Fetch-Mode\": \"navigate\",\n",
    "    \"Sec-Fetch-Site\": \"none\",\n",
    "    \"Sec-Fetch-User\": \"?1\",\n",
    "    \"Sec-GPC\": \"1\",\n",
    "    \"Cache-Control\": \"max-age=0\",\n",
    "    \"TE\": \"trailers\"\n",
    "}\n",
    "payload = {}"
   ]
  },
  {
   "cell_type": "code",
   "execution_count": 6,
   "id": "e405e231",
   "metadata": {},
   "outputs": [],
   "source": [
    "resp = requests.get(url, params=params, headers=headers, data=payload)\n",
    "resp = resp.json()"
   ]
  },
  {
   "cell_type": "code",
   "execution_count": 7,
   "id": "6efd62f0",
   "metadata": {},
   "outputs": [
    {
     "data": {
      "text/plain": [
       "{'scrip_code': 531083,\n",
       " 'short_name': 'NIHARINF',\n",
       " 'Ex_date': '13 Dec 2021',\n",
       " 'Purpose': 'E.G.M. ',\n",
       " 'RD_Date': '-',\n",
       " 'BCRD_FROM': '15 Dec 2021',\n",
       " 'BCRD_TO': '21 Dec 2021',\n",
       " 'ND_START_DATE': '08 Dec 2021',\n",
       " 'ND_END_DATE': '14 Dec 2021',\n",
       " 'payment_date': '',\n",
       " 'exdate': '20211213',\n",
       " 'long_name': 'NIHAR INFO GLOBAL LTD.'}"
      ]
     },
     "execution_count": 7,
     "metadata": {},
     "output_type": "execute_result"
    }
   ],
   "source": [
    "resp[0]"
   ]
  },
  {
   "cell_type": "code",
   "execution_count": null,
   "id": "71da0546",
   "metadata": {},
   "outputs": [],
   "source": [
    "def make_corporate_actions(raw_actions):\n",
    "    actions = []\n",
    "    for action in raw_actions:\n",
    "        actions.append({\n",
    "            \"script_id\": action[\"script_id\"],\n",
    "            \"script_abbr\": action[\"short_name\"],\n",
    "            \"ex_date\": action[\"Ex_date\"],\n",
    "            \"purpose\": action[\"Purpose\"],\n",
    "            \"record_date\": action[\"RD_Date\"],\n",
    "            \"from\": action[\"BCRD_FROM\"],\n",
    "            \"script_abbr\": action[\"short_name\"],\n",
    "            \"script_abbr\": action[\"short_name\"],\n",
    "            \"script_abbr\": action[\"short_name\"],\n",
    "            \"script_abbr\": action[\"short_name\"],\n",
    "            \"script_abbr\": action[\"short_name\"]\n",
    "        })"
   ]
  }
 ],
 "metadata": {
  "kernelspec": {
   "display_name": "Python 3 (ipykernel)",
   "language": "python",
   "name": "python3"
  },
  "language_info": {
   "codemirror_mode": {
    "name": "ipython",
    "version": 3
   },
   "file_extension": ".py",
   "mimetype": "text/x-python",
   "name": "python",
   "nbconvert_exporter": "python",
   "pygments_lexer": "ipython3",
   "version": "3.8.12"
  }
 },
 "nbformat": 4,
 "nbformat_minor": 5
}
